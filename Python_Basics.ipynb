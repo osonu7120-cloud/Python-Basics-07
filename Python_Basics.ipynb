{
  "nbformat": 4,
  "nbformat_minor": 0,
  "metadata": {
    "colab": {
      "provenance": []
    },
    "kernelspec": {
      "name": "python3",
      "display_name": "Python 3"
    },
    "language_info": {
      "name": "python"
    }
  },
  "cells": [
    {
      "cell_type": "markdown",
      "source": [
        "#Python Basics Question and Answer"
      ],
      "metadata": {
        "id": "5DNItewkNfB4"
      }
    },
    {
      "cell_type": "markdown",
      "source": [
        "1. What is Python, and why is it popular?\n",
        "- Python is a high-level programming language known for its simplicity and\n",
        "readability.\n",
        "Just like we use Hindi language to communicate and express ourselves,\n",
        "Python is a language for computers to understand our instructions & perform\n",
        "tasks.\n",
        "Note: Python was created by Guido van Rossum in 1991.\n",
        "- Python is popular because it is easy to learn, versatile, and supported by powerful libraries and a huge community.\n",
        "2. What is an interpreter in Python?\n",
        "-  An interpreter in Python is a tool that reads your code and runs it line by line.\n",
        "3. What are pre-defined keywords in Python\n",
        "- Pre-defined keywords are special words that Python already uses for its own rules, like if, for, and while. We cant use them as names for our own things.\n",
        "4. Can keywords be used as variable names?\n",
        "- No we can't use keywords as variable names because Python already uses them\n",
        "- if   = 5    #  Not allowed\n",
        "  age =  5    #    Allowed\n",
        "5. What is mutability in Python?\n",
        "- Mutability in Python means if  object can changed after it is created or not\n",
        "6. Why are lists mutable, but tuples are immutable\n",
        "- Lists are mutable because can change their items and tuples are immutable because can't change their items.\n",
        "7. What is the difference between “==” and “is” operators in Python?\n",
        "- == checks if two things have same value and is checks they are the same object in memory.\n",
        "8. What are logical operators in Python?\n",
        "- Logical operators in Python are words use to combine conditions like and, or, and not.\n",
        "9. What is type casting in Python?\n",
        "- Type casting Python is changing a value from one type to another, like from number to string.\n",
        "10. What is the difference between implicit and explicit type casting?\n",
        "- Implicit type casting happens automatically while explicit type casting is when we change the type on purpose\n",
        "11. What is the purpose of conditional statements in Python\n",
        "- Conditional statements let the program make decisions and run code only if certain conditions are true.\n",
        "12. How does the elif statement work?\n",
        "- The elif statement checks another condition if the first if is false.\n",
        "13. What is the difference between for and while loops?\n",
        "- for loops run a set number of times, while while loops run as long as a condition is true.\n",
        "14. Describe a scenario where a while loop is more suitable than a for loop?\n",
        "- A while loop is better when you don't know how many times you need to repeat something, like asking a user until they enter the right password.\n",
        "\n",
        "\n",
        "\n",
        "\n"
      ],
      "metadata": {
        "id": "AqCDlL_eOFqG"
      }
    },
    {
      "cell_type": "markdown",
      "source": [
        "#Practical Questions and answer"
      ],
      "metadata": {
        "id": "yHzoTny7i3pX"
      }
    },
    {
      "cell_type": "markdown",
      "source": [
        "1. Write a Python program to print \"Hello, World"
      ],
      "metadata": {
        "id": "RdQy1wM-lJNm"
      }
    },
    {
      "cell_type": "code",
      "source": [
        "x=\"hello world\"\n",
        "print(x)"
      ],
      "metadata": {
        "colab": {
          "base_uri": "https://localhost:8080/"
        },
        "id": "wUsBLo1dqSwL",
        "outputId": "d8beafa1-d133-4b8e-da58-927a49d8c12d"
      },
      "execution_count": 6,
      "outputs": [
        {
          "output_type": "stream",
          "name": "stdout",
          "text": [
            "hello world\n"
          ]
        }
      ]
    },
    {
      "cell_type": "markdown",
      "source": [
        "2. Write a Python program that displays your name and age."
      ],
      "metadata": {
        "id": "_5VOmBHPluUA"
      }
    },
    {
      "cell_type": "code",
      "source": [
        "name = \"arpit ojha\"\n",
        "age = 23\n",
        "print(name , age)"
      ],
      "metadata": {
        "colab": {
          "base_uri": "https://localhost:8080/"
        },
        "id": "tMTBtI3Tl4cc",
        "outputId": "950802df-cc80-4e39-eba6-21c8d113f3f4"
      },
      "execution_count": 4,
      "outputs": [
        {
          "output_type": "stream",
          "name": "stdout",
          "text": [
            "arpit ojha 23\n"
          ]
        }
      ]
    },
    {
      "cell_type": "markdown",
      "source": [
        "3. Write code to print all the pre-defined keywords in Python using the keyword library"
      ],
      "metadata": {
        "id": "ilWMGCnDnKd5"
      }
    },
    {
      "cell_type": "code",
      "source": [
        "import keyword\n",
        "keyword = keyword.kwlist\n",
        "print(keyword)"
      ],
      "metadata": {
        "colab": {
          "base_uri": "https://localhost:8080/"
        },
        "id": "Czcwn3IdnWTi",
        "outputId": "ab4e9f58-2832-4be5-d13f-dde8afb865dd"
      },
      "execution_count": 5,
      "outputs": [
        {
          "output_type": "stream",
          "name": "stdout",
          "text": [
            "['False', 'None', 'True', 'and', 'as', 'assert', 'async', 'await', 'break', 'class', 'continue', 'def', 'del', 'elif', 'else', 'except', 'finally', 'for', 'from', 'global', 'if', 'import', 'in', 'is', 'lambda', 'nonlocal', 'not', 'or', 'pass', 'raise', 'return', 'try', 'while', 'with', 'yield']\n"
          ]
        }
      ]
    },
    {
      "cell_type": "markdown",
      "source": [
        "4. Write a program that checks if a given word is a Python keyword."
      ],
      "metadata": {
        "id": "MtaCjKlYqjdd"
      }
    },
    {
      "cell_type": "code",
      "source": [
        "import keyword\n",
        "world=input(\"Enter a world\")\n",
        "if keyword.iskeyword(world):\n",
        "  print(world,\"is a keyword\")\n",
        "else:\n",
        "  print(world,\"is not a keyword\")\n",
        "\n"
      ],
      "metadata": {
        "colab": {
          "base_uri": "https://localhost:8080/"
        },
        "id": "6Jf7zKi2pp8X",
        "outputId": "63c45649-3c58-430b-c547-5799767b0189"
      },
      "execution_count": 3,
      "outputs": [
        {
          "output_type": "stream",
          "name": "stdout",
          "text": [
            "Enter a worldhello\n",
            "hello is not a keyword\n"
          ]
        }
      ]
    },
    {
      "cell_type": "markdown",
      "source": [
        "5. Create a list and tuple in Python, and demonstrate how attempting to change an element works differently for each"
      ],
      "metadata": {
        "id": "2OXIYBpTKZU7"
      }
    },
    {
      "cell_type": "code",
      "source": [
        "my_list=[10, 20, 30]\n",
        "my_list[0]=100\n",
        "print(my_list)\n",
        "my_list[0]=100\n",
        "print(my_list)"
      ],
      "metadata": {
        "colab": {
          "base_uri": "https://localhost:8080/"
        },
        "id": "_E1DCmVDKqaU",
        "outputId": "7468c5e2-34a6-4d2e-d3df-53748646a2ca"
      },
      "execution_count": 13,
      "outputs": [
        {
          "output_type": "stream",
          "name": "stdout",
          "text": [
            "[100, 20, 30]\n",
            "[100, 20, 30]\n"
          ]
        }
      ]
    },
    {
      "cell_type": "code",
      "source": [
        "my_tuple=[10, 20, 30]\n",
        "my_tuple[0]=100\n",
        "print(my_tuple)\n",
        "my_tuple[0]=100"
      ],
      "metadata": {
        "colab": {
          "base_uri": "https://localhost:8080/"
        },
        "id": "uTg5FkHvMHLt",
        "outputId": "074ae0ce-fbae-4a78-c4b7-368dd16d30ae"
      },
      "execution_count": 15,
      "outputs": [
        {
          "output_type": "stream",
          "name": "stdout",
          "text": [
            "[100, 20, 30]\n"
          ]
        }
      ]
    },
    {
      "cell_type": "code",
      "source": [
        "# A list (can be changed)\n",
        "my_list = [10, 20, 30]\n",
        "print(\"List before change:\", my_list)\n",
        "my_list[0] = 100\n",
        "print(\"List after change :\", my_list)\n",
        "\n",
        "# A tuple (cannot be changed)\n",
        "my_tuple = (10, 20, 30)\n",
        "print(\"\\nTuple before change:\", my_tuple)\n",
        "my_tuple[0] = 100   #  This gives error\n"
      ],
      "metadata": {
        "colab": {
          "base_uri": "https://localhost:8080/",
          "height": 245
        },
        "id": "vjCf6PaKOz6E",
        "outputId": "697571e8-6229-480e-faa2-0b3dd8dfacd1"
      },
      "execution_count": 17,
      "outputs": [
        {
          "output_type": "stream",
          "name": "stdout",
          "text": [
            "List before change: [10, 20, 30]\n",
            "List after change : [100, 20, 30]\n",
            "\n",
            "Tuple before change: (10, 20, 30)\n"
          ]
        },
        {
          "output_type": "error",
          "ename": "TypeError",
          "evalue": "'tuple' object does not support item assignment",
          "traceback": [
            "\u001b[0;31m---------------------------------------------------------------------------\u001b[0m",
            "\u001b[0;31mTypeError\u001b[0m                                 Traceback (most recent call last)",
            "\u001b[0;32m/tmp/ipython-input-3020062387.py\u001b[0m in \u001b[0;36m<cell line: 0>\u001b[0;34m()\u001b[0m\n\u001b[1;32m      8\u001b[0m \u001b[0mmy_tuple\u001b[0m \u001b[0;34m=\u001b[0m \u001b[0;34m(\u001b[0m\u001b[0;36m10\u001b[0m\u001b[0;34m,\u001b[0m \u001b[0;36m20\u001b[0m\u001b[0;34m,\u001b[0m \u001b[0;36m30\u001b[0m\u001b[0;34m)\u001b[0m\u001b[0;34m\u001b[0m\u001b[0;34m\u001b[0m\u001b[0m\n\u001b[1;32m      9\u001b[0m \u001b[0mprint\u001b[0m\u001b[0;34m(\u001b[0m\u001b[0;34m\"\\nTuple before change:\"\u001b[0m\u001b[0;34m,\u001b[0m \u001b[0mmy_tuple\u001b[0m\u001b[0;34m)\u001b[0m\u001b[0;34m\u001b[0m\u001b[0;34m\u001b[0m\u001b[0m\n\u001b[0;32m---> 10\u001b[0;31m \u001b[0mmy_tuple\u001b[0m\u001b[0;34m[\u001b[0m\u001b[0;36m0\u001b[0m\u001b[0;34m]\u001b[0m \u001b[0;34m=\u001b[0m \u001b[0;36m100\u001b[0m   \u001b[0;31m#  This gives error\u001b[0m\u001b[0;34m\u001b[0m\u001b[0;34m\u001b[0m\u001b[0m\n\u001b[0m",
            "\u001b[0;31mTypeError\u001b[0m: 'tuple' object does not support item assignment"
          ]
        }
      ]
    },
    {
      "cell_type": "markdown",
      "source": [
        "6. Write a function to demonstrate the behavior of mutable and immutable arguments."
      ],
      "metadata": {
        "id": "Ywup_djhQFZs"
      }
    },
    {
      "cell_type": "code",
      "source": [
        "def change_num(x): #immutable lint\n",
        "    x=x + 1\n",
        "    print(\"Inside:\", x)\n",
        "\n",
        "def change_list(lst):#mutable list\n",
        "    lst[0]=99\n",
        "    print(\"Inside:\", lst)\n",
        "\n",
        "#Test\n",
        "a=5\n",
        "change_num(a)\n",
        "print(\"Outside:\", a)#not changed\n",
        "\n",
        "b=[1, 2, 3]\n",
        "change_list(b)\n",
        "print(\"Outside:\", b) #changed\n"
      ],
      "metadata": {
        "colab": {
          "base_uri": "https://localhost:8080/"
        },
        "id": "h9a2tp2eQObc",
        "outputId": "b54a22a7-4419-4ede-b674-3081f88b722e"
      },
      "execution_count": 18,
      "outputs": [
        {
          "output_type": "stream",
          "name": "stdout",
          "text": [
            "Inside: 6\n",
            "Outside: 5\n",
            "Inside: [99, 2, 3]\n",
            "Outside: [99, 2, 3]\n"
          ]
        }
      ]
    },
    {
      "cell_type": "markdown",
      "source": [
        "int string, tuple = immutable cannot change\n",
        "\n",
        "list, dict, set = mutable can change"
      ],
      "metadata": {
        "id": "tWuD21tXRZbk"
      }
    },
    {
      "cell_type": "markdown",
      "source": [
        "7. Write a program that performs basic arithmetic operations on two user-input numbers"
      ],
      "metadata": {
        "id": "9QXksS6LRs2F"
      }
    },
    {
      "cell_type": "code",
      "source": [
        "a=int(input(\"First number: \"))\n",
        "b=int(input(\"Second number: \"))\n",
        "\n",
        "print(\"Add=\", a+b)\n",
        "print(\"Sub=\", a-b)\n",
        "print(\"Mul=\", a*b)\n",
        "print(\"Div=\", a/b)\n"
      ],
      "metadata": {
        "colab": {
          "base_uri": "https://localhost:8080/"
        },
        "id": "FhUimuosRuaU",
        "outputId": "94b4a6fc-9d82-4f7e-c66b-394c729a5676"
      },
      "execution_count": 22,
      "outputs": [
        {
          "output_type": "stream",
          "name": "stdout",
          "text": [
            "First number: 9\n",
            "Second number: 5\n",
            "Add= 14\n",
            "Sub= 4\n",
            "Mul= 45\n",
            "Div= 1.8\n"
          ]
        }
      ]
    },
    {
      "cell_type": "markdown",
      "source": [
        "8. Write a program to demonstrate the use of logical operators."
      ],
      "metadata": {
        "id": "ROAZL73tSSQx"
      }
    },
    {
      "cell_type": "code",
      "source": [
        "x=True\n",
        "y=False\n",
        "\n",
        "print(x and y)\n",
        "print(x or y)\n",
        "print(not x)\n"
      ],
      "metadata": {
        "colab": {
          "base_uri": "https://localhost:8080/"
        },
        "id": "VJ2xVufxST31",
        "outputId": "6c1bcada-cffa-4478-9115-50e634087c94"
      },
      "execution_count": 23,
      "outputs": [
        {
          "output_type": "stream",
          "name": "stdout",
          "text": [
            "False\n",
            "True\n",
            "False\n"
          ]
        }
      ]
    },
    {
      "cell_type": "markdown",
      "source": [
        "9. Write a Python program to convert user input from string to integer, float, and boolean types."
      ],
      "metadata": {
        "id": "erSUrCVkSvlU"
      }
    },
    {
      "cell_type": "code",
      "source": [
        "s=input(\"hello sir: \")\n",
        "\n",
        "i=int(s)\n",
        "f=float(s)\n",
        "b=bool(s)\n",
        "\n",
        "print(\"Integer:\", i)\n",
        "print(\"Float:\", f)\n",
        "print(\"Boolean:\", b)\n"
      ],
      "metadata": {
        "colab": {
          "base_uri": "https://localhost:8080/"
        },
        "id": "0vnBDr8bS3qE",
        "outputId": "bbbee2c0-84ae-49da-a195-04b28b2cc8e8"
      },
      "execution_count": 24,
      "outputs": [
        {
          "output_type": "stream",
          "name": "stdout",
          "text": [
            "hello sir: 5\n",
            "Integer: 5\n",
            "Float: 5.0\n",
            "Boolean: True\n"
          ]
        }
      ]
    },
    {
      "cell_type": "markdown",
      "source": [
        "10. Write code to demonstrate type casting with list elements"
      ],
      "metadata": {
        "id": "l6DWXxx2T3Xi"
      }
    },
    {
      "cell_type": "code",
      "source": [
        "nums=[\"10\",\"20\",\"30\"]\n",
        "\n",
        "print(int(nums[0]))\n",
        "print(float(nums[1]))\n",
        "print(bool(nums[2]))\n"
      ],
      "metadata": {
        "colab": {
          "base_uri": "https://localhost:8080/"
        },
        "id": "2Qq0QbytT41p",
        "outputId": "c5743ee8-0795-45d4-8570-18f9d84725a3"
      },
      "execution_count": 27,
      "outputs": [
        {
          "output_type": "stream",
          "name": "stdout",
          "text": [
            "10\n",
            "20.0\n",
            "True\n"
          ]
        }
      ]
    },
    {
      "cell_type": "markdown",
      "source": [
        "11. Write a program that checks if a number is positive, negative, or zero."
      ],
      "metadata": {
        "id": "5wXd8ZQWU4Pg"
      }
    },
    {
      "cell_type": "code",
      "source": [
        "n=int(input())\n",
        "\n",
        "if n>0: print(\"Positive\")\n",
        "if n<0: print(\"Negative\")\n",
        "if n==0: print(\"Zero\")\n",
        "\n"
      ],
      "metadata": {
        "colab": {
          "base_uri": "https://localhost:8080/"
        },
        "id": "O1WTCKRvU57W",
        "outputId": "26060e06-3d13-449f-af57-2280e6222497"
      },
      "execution_count": 29,
      "outputs": [
        {
          "output_type": "stream",
          "name": "stdout",
          "text": [
            "33\n",
            "Positive\n"
          ]
        }
      ]
    },
    {
      "cell_type": "markdown",
      "source": [
        "12. Write a for loop to print numbers from 1 to 10.\n"
      ],
      "metadata": {
        "id": "AiMetskeV0Sv"
      }
    },
    {
      "cell_type": "code",
      "source": [
        "for i in range(1, 11):\n",
        " print(i)\n"
      ],
      "metadata": {
        "colab": {
          "base_uri": "https://localhost:8080/"
        },
        "id": "99bMMpdlV2O0",
        "outputId": "d80a61f6-2a93-43ad-9dd0-0fe209b586eb"
      },
      "execution_count": 30,
      "outputs": [
        {
          "output_type": "stream",
          "name": "stdout",
          "text": [
            "1\n",
            "2\n",
            "3\n",
            "4\n",
            "5\n",
            "6\n",
            "7\n",
            "8\n",
            "9\n",
            "10\n"
          ]
        }
      ]
    },
    {
      "cell_type": "markdown",
      "source": [
        "13. Write a Python program to find the sum of all even numbers between 1 and 50"
      ],
      "metadata": {
        "id": "fwxnfSanWdt4"
      }
    },
    {
      "cell_type": "code",
      "source": [
        "s=0\n",
        "for i in range(8,51,29):\n",
        " s+=i\n",
        "print(s)\n"
      ],
      "metadata": {
        "colab": {
          "base_uri": "https://localhost:8080/"
        },
        "id": "e0qe-RVAWgJR",
        "outputId": "e7a52dd9-d825-4c79-8755-4081ddf713a5"
      },
      "execution_count": 31,
      "outputs": [
        {
          "output_type": "stream",
          "name": "stdout",
          "text": [
            "45\n"
          ]
        }
      ]
    },
    {
      "cell_type": "markdown",
      "source": [
        "14. Write a program to reverse a string using a while loop."
      ],
      "metadata": {
        "id": "SpcyLVA2XGCe"
      }
    },
    {
      "cell_type": "code",
      "source": [
        "name=input(\"Name: \")\n",
        "rev = \"\"\n",
        "i = len(name)-1\n",
        "while i>=0:\n",
        "    rev += name[i]\n",
        "    i -= 1\n",
        "print(rev)\n"
      ],
      "metadata": {
        "colab": {
          "base_uri": "https://localhost:8080/"
        },
        "id": "tMg52dV_XhU3",
        "outputId": "be296384-381d-4dba-e9a5-681829c77559"
      },
      "execution_count": 35,
      "outputs": [
        {
          "output_type": "stream",
          "name": "stdout",
          "text": [
            "Name: arpit ojha\n",
            "ahjo tipra\n"
          ]
        }
      ]
    },
    {
      "cell_type": "markdown",
      "source": [
        "15. Write a Python program to calculate the factorial of a number provided by the user using a while loop."
      ],
      "metadata": {
        "id": "F3dCZcjTYJ2c"
      }
    },
    {
      "cell_type": "code",
      "source": [
        "n=int(input())\n",
        "f=1\n",
        "i=1\n",
        "while i<=n:\n",
        "    f*=i\n",
        "    i+=1\n",
        "print(f)\n"
      ],
      "metadata": {
        "colab": {
          "base_uri": "https://localhost:8080/"
        },
        "id": "lWaU4lG_Yfj3",
        "outputId": "1da76064-72ce-48fe-aa1e-9996eb732e98"
      },
      "execution_count": 36,
      "outputs": [
        {
          "output_type": "stream",
          "name": "stdout",
          "text": [
            "33\n",
            "8683317618811886495518194401280000000\n"
          ]
        }
      ]
    },
    {
      "cell_type": "code",
      "source": [],
      "metadata": {
        "id": "8XFQfjd1YkxD"
      },
      "execution_count": null,
      "outputs": []
    }
  ]
}